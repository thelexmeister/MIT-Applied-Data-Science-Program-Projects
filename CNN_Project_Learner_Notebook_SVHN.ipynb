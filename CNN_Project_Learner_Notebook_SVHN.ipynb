{
  "cells": [
    {
      "cell_type": "markdown",
      "metadata": {
        "id": "view-in-github",
        "colab_type": "text"
      },
      "source": [
        "<a href=\"https://colab.research.google.com/github/thelexmeister/MIT-Applied-Data-Science-Program-Projects/blob/main/CNN_Project_Learner_Notebook_SVHN.ipynb\" target=\"_parent\"><img src=\"https://colab.research.google.com/assets/colab-badge.svg\" alt=\"Open In Colab\"/></a>"
      ]
    },
    {
      "cell_type": "markdown",
      "metadata": {
        "id": "Q91KqmCRu64D"
      },
      "source": [
        "# **Project - Convolutional Neural Networks: Street View Housing Number Digit Recognition**\n",
        "\n",
        "# Marks: 30\n",
        "\n",
        "Welcome to the project on classification using Convolutional Neural Networks. We will continue to work with the Street View Housing Numbers (SVHN) image dataset for this project.\n",
        "\n",
        "--------------\n",
        "### **Context:** \n",
        "--------------\n",
        "\n",
        "One of the most interesting tasks in deep learning is to recognize objects in natural scenes. The ability to process visual information using machine learning algorithms can be very useful as demonstrated in various applications.\n",
        "\n",
        "The SVHN dataset contains over 600,000 labeled digits cropped from street-level photos. It is one of the most popular image recognition datasets. It has been used in neural networks created by Google to improve map quality by automatically transcribing the address numbers from a patch of pixels. The transcribed number with a known street address helps pinpoint the location of the building it represents. \n",
        "\n",
        "----------------\n",
        "### **Objective:**\n",
        "----------------\n",
        "\n",
        "Build a CNN model that can identify the digits in the images.\n",
        "\n",
        "-------------\n",
        "### **Dataset**\n",
        "-------------\n",
        "Here, we will use a subset of the original data to save some computation time. The dataset is provided as a .h5 file. The basic preprocessing steps have been done."
      ]
    },
    {
      "cell_type": "markdown",
      "metadata": {
        "id": "8z2Z7-OAs8QG"
      },
      "source": [
        "## **Mount the drive**\n",
        "Let us start by mounting the drive and importing the necessary libraries."
      ]
    },
    {
      "cell_type": "code",
      "execution_count": 5,
      "metadata": {
        "colab": {
          "base_uri": "https://localhost:8080/"
        },
        "id": "03lDyQUuef7z",
        "outputId": "8dd273b2-9de2-4523-d588-c6704c8d26fd"
      },
      "outputs": [
        {
          "output_type": "stream",
          "name": "stdout",
          "text": [
            "Drive already mounted at /content/drive; to attempt to forcibly remount, call drive.mount(\"/content/drive\", force_remount=True).\n"
          ]
        }
      ],
      "source": [
        "from google.colab import drive\n",
        "drive.mount('/content/drive')"
      ]
    },
    {
      "cell_type": "markdown",
      "metadata": {
        "id": "C8U3DUa3eNsT"
      },
      "source": [
        "## **Importing libraries**"
      ]
    },
    {
      "cell_type": "code",
      "execution_count": 6,
      "metadata": {
        "id": "-dVzeuF3eQx1"
      },
      "outputs": [],
      "source": [
        "import numpy as np\n",
        "import pandas as pd\n",
        "import matplotlib.pyplot as plt\n",
        "import seaborn as sns\n",
        "\n",
        "from sklearn.model_selection import train_test_split\n",
        "from sklearn.preprocessing import MinMaxScaler\n",
        "\n",
        "import tensorflow as tf\n",
        "from tensorflow.keras.models import Sequential\n",
        "from tensorflow.keras.layers import Dense, Conv2D, MaxPool2D, BatchNormalization, Dropout, Flatten, LeakyReLU\n",
        "from tensorflow.keras.utils import to_categorical"
      ]
    },
    {
      "cell_type": "markdown",
      "metadata": {
        "id": "ucnevGLoyKf_"
      },
      "source": [
        "Let us check for the version of TensorFlow."
      ]
    },
    {
      "cell_type": "code",
      "execution_count": 7,
      "metadata": {
        "colab": {
          "base_uri": "https://localhost:8080/"
        },
        "id": "W5as47YxyJVk",
        "outputId": "82d59035-d4e7-4ab5-8d2b-c1ee8ff7db69"
      },
      "outputs": [
        {
          "output_type": "stream",
          "name": "stdout",
          "text": [
            "2.8.0\n"
          ]
        }
      ],
      "source": [
        "print(tf.__version__)"
      ]
    },
    {
      "cell_type": "markdown",
      "metadata": {
        "id": "8lsux2ZwyTTR"
      },
      "source": [
        "## **Load the dataset**\n",
        "- Let us now load the dataset that is available as a .h5 file.\n",
        "- Split the data into train and the test dataset"
      ]
    },
    {
      "cell_type": "code",
      "execution_count": 8,
      "metadata": {
        "id": "BApX9qgNsqV0",
        "scrolled": true
      },
      "outputs": [],
      "source": [
        "import h5py\n",
        "\n",
        "# Open the file as read only\n",
        "# User can make changes in the path as required\n",
        "h5f = h5py.File('/content/drive/MyDrive/SVHN_single_grey1.h5', 'r')\n",
        "\n",
        "# Load the training and the test set\n",
        "X_train = h5f['X_train'][:]\n",
        "y_train = h5f['y_train'][:]\n",
        "X_test = h5f['X_test'][:]\n",
        "y_test = h5f['y_test'][:]\n",
        "\n",
        "\n",
        "# Close this file\n",
        "h5f.close()"
      ]
    },
    {
      "cell_type": "markdown",
      "metadata": {
        "id": "hVe0CYpUgj7w"
      },
      "source": [
        "Let's check the number of images in the training and testing data."
      ]
    },
    {
      "cell_type": "code",
      "execution_count": 9,
      "metadata": {
        "colab": {
          "base_uri": "https://localhost:8080/"
        },
        "id": "y3lwKpOefkpA",
        "outputId": "e92f64e3-8a70-46c8-ccbe-b70f04cd5adf"
      },
      "outputs": [
        {
          "output_type": "execute_result",
          "data": {
            "text/plain": [
              "(42000, 18000)"
            ]
          },
          "metadata": {},
          "execution_count": 9
        }
      ],
      "source": [
        "len(X_train), len(X_test)"
      ]
    },
    {
      "cell_type": "markdown",
      "metadata": {
        "id": "akTUOfLlgwoM"
      },
      "source": [
        "**Observations**\n",
        "- There are 42,000 images in the training data and 18,000 images in the testing data. "
      ]
    },
    {
      "cell_type": "markdown",
      "metadata": {
        "id": "kxODV6HKykuc"
      },
      "source": [
        "## **Visualizing images**\n",
        "- Use X_train to visualize the first 10 images\n",
        "- Use Y_train to print the first 10 labels"
      ]
    },
    {
      "cell_type": "markdown",
      "metadata": {
        "id": "Rn5IZYv-e2TC"
      },
      "source": [
        "#### **Question 1: Complete the below code to visualize the first 10 images from the training data (1 Mark)**"
      ]
    },
    {
      "cell_type": "code",
      "execution_count": 10,
      "metadata": {
        "colab": {
          "base_uri": "https://localhost:8080/",
          "height": 96
        },
        "id": "Bvsc8ytHsqWD",
        "outputId": "df47098f-89b4-4f0e-f613-db5ee93298dc"
      },
      "outputs": [
        {
          "output_type": "display_data",
          "data": {
            "text/plain": [
              "<Figure size 720x72 with 10 Axes>"
            ],
            "image/png": "[encoded data removed]"
          },
          "metadata": {
            "needs_background": "light"
          }
        },
        {
          "output_type": "stream",
          "name": "stdout",
          "text": [
            "label for each of the above image: [2 6 7 4 4 0 3 0 7 3]\n"
          ]
        }
      ],
      "source": [
        "# visualizing the first 10 images in the dataset and their labels\n",
        "plt.figure(figsize=(10, 1))\n",
        "\n",
        "for i in range(10):\n",
        "    plt.subplot(1, 10, i+1)\n",
        "    plt.imshow(X_train[i], cmap=\"gray\") # write the function to visualize images\n",
        "    plt.axis('off')\n",
        "\n",
        "plt.show()\n",
        "print('label for each of the above image: %s' % (y_train[0:10]))"
      ]
    },
    {
      "cell_type": "markdown",
      "metadata": {
        "id": "kzoyeXHOy80N"
      },
      "source": [
        "## **Data Preparation**\n",
        "\n",
        "- Print the first image in the train image and figure out the shape of the images\n",
        "- Reshape the train and the test dataset to make them fit the first convolutional operation that we will create later. Figure out the required shape\n",
        "- Normalize the train and the test dataset by dividing by 255\n",
        "- Print the new shapes of the train and the test set\n",
        "- One-hot encode the target variable"
      ]
    },
    {
      "cell_type": "code",
      "execution_count": 11,
      "metadata": {
        "colab": {
          "base_uri": "https://localhost:8080/"
        },
        "id": "NqndzQXng9rL",
        "outputId": "c683ba17-6199-4dab-b5d6-c9add988ac7e"
      },
      "outputs": [
        {
          "output_type": "stream",
          "name": "stdout",
          "text": [
            "Shape: (32, 32)\n",
            "\n",
            "First image:\n",
            " [[ 33.0704  30.2601  26.852  ...  71.4471  58.2204  42.9939]\n",
            " [ 25.2283  25.5533  29.9765 ... 113.0209 103.3639  84.2949]\n",
            " [ 26.2775  22.6137  40.4763 ... 113.3028 121.775  115.4228]\n",
            " ...\n",
            " [ 28.5502  36.212   45.0801 ...  24.1359  25.0927  26.0603]\n",
            " [ 38.4352  26.4733  23.2717 ...  28.1094  29.4683  30.0661]\n",
            " [ 50.2984  26.0773  24.0389 ...  49.6682  50.853   53.0377]]\n"
          ]
        }
      ],
      "source": [
        "# Shape of the images and the first image\n",
        "\n",
        "print(\"Shape:\", X_train[0].shape)\n",
        "print()\n",
        "print(\"First image:\\n\", X_train[0])"
      ]
    },
    {
      "cell_type": "code",
      "execution_count": 12,
      "metadata": {
        "id": "D9YPwf9ysqWU"
      },
      "outputs": [],
      "source": [
        "# Reshaping the dataset to flatten them. Remember that we always have to give a 4D array as input to CNNs\n",
        "\n",
        "X_train = X_train.reshape(X_train.shape[0], 32,32,1)\n",
        "X_test = X_test.reshape(X_test.shape[0], 32,32,1)"
      ]
    },
    {
      "cell_type": "code",
      "execution_count": 13,
      "metadata": {
        "id": "q_yUUTp_mUzB"
      },
      "outputs": [],
      "source": [
        "# Normalize inputs from 0-255 to 0-1\n",
        "\n",
        "X_train = X_train / 255.0\n",
        "X_test = X_test / 255.0"
      ]
    },
    {
      "cell_type": "code",
      "execution_count": 14,
      "metadata": {
        "colab": {
          "base_uri": "https://localhost:8080/"
        },
        "id": "t7FSqOpamWkH",
        "outputId": "a2fe0874-cc7d-4889-f77d-00eb1830786c"
      },
      "outputs": [
        {
          "output_type": "stream",
          "name": "stdout",
          "text": [
            "Training set: (42000, 32, 32, 1) (42000,)\n",
            "Test set: (18000, 32, 32, 1) (18000,)\n"
          ]
        }
      ],
      "source": [
        "# New shape \n",
        "\n",
        "print('Training set:', X_train.shape, y_train.shape)\n",
        "print('Test set:', X_test.shape, y_test.shape)"
      ]
    },
    {
      "cell_type": "markdown",
      "metadata": {
        "id": "YP92jacue2TE"
      },
      "source": [
        "#### **Question 2: One-hot encode the labels in the target variable y_train and y_test (2 Marks)**"
      ]
    },
    {
      "cell_type": "code",
      "execution_count": 15,
      "metadata": {
        "colab": {
          "base_uri": "https://localhost:8080/"
        },
        "id": "zL0lYER4sqWw",
        "outputId": "3037bb11-dbaf-4c7a-b512-1bb0338dd48e"
      },
      "outputs": [
        {
          "output_type": "execute_result",
          "data": {
            "text/plain": [
              "array([[0., 1., 0., ..., 0., 0., 0.],\n",
              "       [0., 0., 0., ..., 1., 0., 0.],\n",
              "       [0., 0., 1., ..., 0., 0., 0.],\n",
              "       ...,\n",
              "       [0., 0., 0., ..., 1., 0., 0.],\n",
              "       [0., 0., 0., ..., 0., 0., 1.],\n",
              "       [0., 0., 1., ..., 0., 0., 0.]], dtype=float32)"
            ]
          },
          "metadata": {},
          "execution_count": 15
        }
      ],
      "source": [
        "#Write the function and appropriate variable name to one-hot encode the output\n",
        "\n",
        "y_train = to_categorical(y_train)\n",
        "y_test = to_categorical(y_test)\n",
        "\n",
        "#test labels\n",
        "y_test"
      ]
    },
    {
      "cell_type": "markdown",
      "metadata": {
        "id": "ViqPOTquCF76"
      },
      "source": [
        "- Notice that each entry of y_test is a one-hot encoded vector instead of a single label."
      ]
    },
    {
      "cell_type": "markdown",
      "metadata": {
        "id": "yH-gVrzuByNA"
      },
      "source": [
        "## **Model Building**\n",
        "\n",
        "Now, we have done data preprocessing, let's build a CNN model."
      ]
    },
    {
      "cell_type": "code",
      "execution_count": 16,
      "metadata": {
        "id": "eaGr-3Noe2TF"
      },
      "outputs": [],
      "source": [
        "#Fixing the seed for random number generators\n",
        "np.random.seed(42)\n",
        "import random\n",
        "random.seed(42)\n",
        "tf.random.set_seed(42)"
      ]
    },
    {
      "cell_type": "markdown",
      "metadata": {
        "id": "UJDUoaEj1d6e"
      },
      "source": [
        "### **Model Architecture**\n",
        "- Write a function that returns a sequential model with the following architecture\n",
        " - First Convolutional layer with **16 filters and kernel size of 3x3**. Use the **'same' padding** and provide an **apt input shape**\n",
        " - Add a **LeakyRelu layer** with the **slope equal to 0.1**\n",
        " - Second Convolutional layer with **32 filters and kernel size of 3x3 with 'same' padding**\n",
        " - Another **LeakyRelu** with the **slope equal to 0.1**\n",
        " - A **max-pooling layer** with a **pool size of 2x2**\n",
        " - **Flatten** the output from the previous layer\n",
        " - Add a **dense layer with 32 nodes**\n",
        " - Add a **LeakyRelu layer with slope equal to 0.1**\n",
        " - Add the final **output layer with nodes equal to the number of classes** and **softmax activation**\n",
        " - Compile the model with the **categorical_crossentropy loss, adam optimizers (learning_rate = 0.001), and accuracy metric**. Do not fit the model here, just return the compiled model\n",
        "- Call the function and store the model in a new variable\n",
        "- Print the summary of the model.\n",
        "- Fit the model on the train data with a **validation split of 0.2, batch size = 32, verbose = 1, and 20 epochs**. Store the model building history to use later for visualization."
      ]
    },
    {
      "cell_type": "markdown",
      "metadata": {
        "id": "Uw8pZcNwe2TG"
      },
      "source": [
        "#### **Question 3: Build and train a CNN model as per the above mentioned architecture (10 Marks)**"
      ]
    },
    {
      "cell_type": "code",
      "execution_count": 17,
      "metadata": {
        "id": "Cmi81Gr5sqW-"
      },
      "outputs": [],
      "source": [
        "#Importing losses and optimizers modules\n",
        "from tensorflow.keras import losses\n",
        "from tensorflow.keras import optimizers\n",
        "from tensorflow.keras import layers\n",
        "from keras.layers     import LeakyReLU\n",
        "\n",
        "#Define the function\n",
        "def cnn_model_1():\n",
        "    model = Sequential() \n",
        "    #Add layers as per the architecture mentioned above in the same sequence\n",
        "    model.add(layers.Conv2D(16, (3, 3), padding=\"same\", input_shape=(32, 32, 1)))\n",
        "    model.add(LeakyReLU(alpha=0.1))\n",
        "    model.add(layers.Conv2D(32, (3, 3), padding=\"same\", input_shape=(32, 32, 1)))\n",
        "    model.add(LeakyReLU(alpha=0.1))\n",
        "    model.add(layers.MaxPooling2D(2,2))\n",
        "    model.add(layers.Flatten())\n",
        "    model.add(Dense(32))\n",
        "    model.add(LeakyReLU(alpha=0.1))\n",
        "    model.add(Dense(10, activation='softmax'))\n",
        "    #declare adam optimizer with learning rate of 0.001 \n",
        "    adam = optimizers.Adam(learning_rate = 0.001)\n",
        "    \n",
        "    #compile the model\n",
        "    model.compile(optimizer = 'adam',loss = 'categorical_crossentropy', metrics = ['accuracy'])\n",
        "    \n",
        "    return model"
      ]
    },
    {
      "cell_type": "code",
      "execution_count": 18,
      "metadata": {
        "id": "bGCUI_xsImnH"
      },
      "outputs": [],
      "source": [
        "#Build the model\n",
        "model_1 = cnn_model_1()"
      ]
    },
    {
      "cell_type": "code",
      "execution_count": 19,
      "metadata": {
        "id": "ckJsLdmdQadZ",
        "colab": {
          "base_uri": "https://localhost:8080/"
        },
        "outputId": "33ef5b55-85c0-4c34-e466-253532cda17f"
      },
      "outputs": [
        {
          "output_type": "stream",
          "name": "stdout",
          "text": [
            "Model: \"sequential\"\n",
            "_________________________________________________________________\n",
            " Layer (type)                Output Shape              Param #   \n",
            "=================================================================\n",
            " conv2d (Conv2D)             (None, 32, 32, 16)        160       \n",
            "                                                                 \n",
            " leaky_re_lu (LeakyReLU)     (None, 32, 32, 16)        0         \n",
            "                                                                 \n",
            " conv2d_1 (Conv2D)           (None, 32, 32, 32)        4640      \n",
            "                                                                 \n",
            " leaky_re_lu_1 (LeakyReLU)   (None, 32, 32, 32)        0         \n",
            "                                                                 \n",
            " max_pooling2d (MaxPooling2D  (None, 16, 16, 32)       0         \n",
            " )                                                               \n",
            "                                                                 \n",
            " flatten (Flatten)           (None, 8192)              0         \n",
            "                                                                 \n",
            " dense (Dense)               (None, 32)                262176    \n",
            "                                                                 \n",
            " leaky_re_lu_2 (LeakyReLU)   (None, 32)                0         \n",
            "                                                                 \n",
            " dense_1 (Dense)             (None, 10)                330       \n",
            "                                                                 \n",
            "=================================================================\n",
            "Total params: 267,306\n",
            "Trainable params: 267,306\n",
            "Non-trainable params: 0\n",
            "_________________________________________________________________\n"
          ]
        }
      ],
      "source": [
        "#Print the model summary\n",
        "model_1.summary()"
      ]
    },
    {
      "cell_type": "code",
      "execution_count": null,
      "metadata": {
        "id": "3Fy3Dif_zcCk",
        "colab": {
          "base_uri": "https://localhost:8080/"
        },
        "outputId": "7f91b2db-f649-4fac-d537-8d57fd96e796"
      },
      "outputs": [
        {
          "output_type": "stream",
          "name": "stdout",
          "text": [
            "Epoch 1/20\n",
            "1050/1050 [==============================] - 8s 7ms/step - loss: 0.6831 - accuracy: 0.7977 - val_loss: 0.6183 - val_accuracy: 0.8215\n",
            "Epoch 2/20\n",
            "1050/1050 [==============================] - 7s 7ms/step - loss: 0.5221 - accuracy: 0.8485 - val_loss: 0.5265 - val_accuracy: 0.8507\n",
            "Epoch 3/20\n",
            "1050/1050 [==============================] - 7s 7ms/step - loss: 0.4497 - accuracy: 0.8674 - val_loss: 0.5199 - val_accuracy: 0.8500\n",
            "Epoch 4/20\n",
            "1050/1050 [==============================] - 8s 7ms/step - loss: 0.3918 - accuracy: 0.8857 - val_loss: 0.4573 - val_accuracy: 0.8687\n",
            "Epoch 5/20\n",
            "1050/1050 [==============================] - 7s 7ms/step - loss: 0.3464 - accuracy: 0.8965 - val_loss: 0.4946 - val_accuracy: 0.8598\n",
            "Epoch 6/20\n",
            "1050/1050 [==============================] - 7s 7ms/step - loss: 0.3051 - accuracy: 0.9091 - val_loss: 0.4779 - val_accuracy: 0.8675\n",
            "Epoch 7/20\n",
            "1050/1050 [==============================] - 7s 7ms/step - loss: 0.2722 - accuracy: 0.9176 - val_loss: 0.4496 - val_accuracy: 0.8771\n",
            "Epoch 8/20\n",
            "1050/1050 [==============================] - 7s 7ms/step - loss: 0.2408 - accuracy: 0.9283 - val_loss: 0.5037 - val_accuracy: 0.8642\n",
            "Epoch 9/20\n",
            "1050/1050 [==============================] - 8s 7ms/step - loss: 0.2214 - accuracy: 0.9328 - val_loss: 0.4855 - val_accuracy: 0.8712\n",
            "Epoch 10/20\n",
            "1050/1050 [==============================] - 8s 7ms/step - loss: 0.1925 - accuracy: 0.9417 - val_loss: 0.4958 - val_accuracy: 0.8783\n",
            "Epoch 11/20\n",
            "1050/1050 [==============================] - 8s 7ms/step - loss: 0.1737 - accuracy: 0.9471 - val_loss: 0.5424 - val_accuracy: 0.8740\n",
            "Epoch 12/20\n",
            "1050/1050 [==============================] - 8s 7ms/step - loss: 0.1585 - accuracy: 0.9502 - val_loss: 0.6054 - val_accuracy: 0.8698\n",
            "Epoch 13/20\n",
            "1050/1050 [==============================] - 8s 7ms/step - loss: 0.1378 - accuracy: 0.9577 - val_loss: 0.6235 - val_accuracy: 0.8696\n",
            "Epoch 14/20\n",
            "1050/1050 [==============================] - 8s 7ms/step - loss: 0.1274 - accuracy: 0.9598 - val_loss: 0.5996 - val_accuracy: 0.8681\n",
            "Epoch 15/20\n",
            "1050/1050 [==============================] - 7s 7ms/step - loss: 0.1122 - accuracy: 0.9646 - val_loss: 0.6567 - val_accuracy: 0.8654\n",
            "Epoch 16/20\n",
            "1050/1050 [==============================] - 7s 7ms/step - loss: 0.1075 - accuracy: 0.9650 - val_loss: 0.6821 - val_accuracy: 0.8640\n",
            "Epoch 17/20\n",
            "1050/1050 [==============================] - 7s 7ms/step - loss: 0.0957 - accuracy: 0.9689 - val_loss: 0.7239 - val_accuracy: 0.8693\n",
            "Epoch 18/20\n",
            "1050/1050 [==============================] - 8s 7ms/step - loss: 0.0858 - accuracy: 0.9715 - val_loss: 0.7754 - val_accuracy: 0.8644\n",
            "Epoch 19/20\n",
            "1050/1050 [==============================] - 8s 8ms/step - loss: 0.0762 - accuracy: 0.9746 - val_loss: 0.8204 - val_accuracy: 0.8588\n",
            "Epoch 20/20\n",
            "1050/1050 [==============================] - 7s 7ms/step - loss: 0.0734 - accuracy: 0.9754 - val_loss: 0.8146 - val_accuracy: 0.8608\n"
          ]
        }
      ],
      "source": [
        "# Fit the model\n",
        "history_model_1 = model_1.fit(X_train, y_train, epochs=20, batch_size=32, verbose=1, validation_split=0.2)"
      ]
    },
    {
      "cell_type": "markdown",
      "metadata": {
        "id": "tKOckG-KPyLg"
      },
      "source": [
        "### **Plotting the validation and training accuracies**"
      ]
    },
    {
      "cell_type": "markdown",
      "metadata": {
        "id": "sVyQ9Gpge2TI"
      },
      "source": [
        "#### **Question 4: Write your observations on the below plot (2 Marks)**"
      ]
    },
    {
      "cell_type": "code",
      "execution_count": null,
      "metadata": {
        "colab": {
          "base_uri": "https://localhost:8080/",
          "height": 497
        },
        "id": "lt77zgGMP4yw",
        "outputId": "8bacbeb1-aacc-4b2d-8f93-c9ee3902e169"
      },
      "outputs": [
        {
          "output_type": "display_data",
          "data": {
            "image/png": "[encoded data removed]",
            "text/plain": [
              "<Figure size 576x576 with 1 Axes>"
            ]
          },
          "metadata": {
            "needs_background": "light"
          }
        }
      ],
      "source": [
        "# plotting the accuracies\n",
        "\n",
        "dict_hist = history_model_1.history\n",
        "list_ep = [i for i in range(1,21)]\n",
        "\n",
        "plt.figure(figsize = (8,8))\n",
        "plt.plot(list_ep,dict_hist['accuracy'],ls = '--', label = 'accuracy')\n",
        "plt.plot(list_ep,dict_hist['val_accuracy'],ls = '--', label = 'val_accuracy')\n",
        "plt.ylabel('Accuracy')\n",
        "plt.xlabel('Epochs')\n",
        "plt.legend()\n",
        "plt.show()"
      ]
    },
    {
      "cell_type": "markdown",
      "metadata": {
        "id": "pGBbQpLONX7k"
      },
      "source": [
        "**Observations:**\n",
        "\n",
        "First off, this model reached a 97% accuracy on the training data. However, on the validation data it only reached about an 87% accuracy. \n",
        "\n",
        "One concern, is that the training data appears to be just starting to level out. Running a few more epochs might be good to see if this is indeed leveling out or if it is still improving.\n",
        "\n",
        "Each of these are better than the previous NN project results (which were both around 65%). \n",
        "\n",
        "I would like the model results on the validation set to be closer to the training set, so that has better generalized performance but this model is better than the previous NN."
      ]
    },
    {
      "cell_type": "markdown",
      "metadata": {
        "id": "z0qgLMBZm5-K"
      },
      "source": [
        "Let's build another model and see if we can get a better model with generalized performance.\n",
        "\n",
        "First, we need to clear the previous model's history from the keras backend. Also, let's fix the seed again after clearing the backend."
      ]
    },
    {
      "cell_type": "code",
      "execution_count": null,
      "metadata": {
        "id": "y98BpLxsok_H"
      },
      "outputs": [],
      "source": [
        "#Clearing backend\n",
        "from tensorflow.keras import backend\n",
        "backend.clear_session()"
      ]
    },
    {
      "cell_type": "code",
      "execution_count": null,
      "metadata": {
        "id": "HbKi93HTolGW"
      },
      "outputs": [],
      "source": [
        "#Fixing the seed for random number generators\n",
        "np.random.seed(42)\n",
        "import random\n",
        "random.seed(42)\n",
        "tf.random.set_seed(42)"
      ]
    },
    {
      "cell_type": "markdown",
      "metadata": {
        "id": "lT6o3TIKuCtk"
      },
      "source": [
        "### **Second Model Architecture**\n",
        "- Write a function that returns a sequential model with the following architecture\n",
        " - First Convolutional layer with **16 filters and kernel size of 3x3**. Use the **'same' padding** and provide an **apt input shape**\n",
        " - Add a **LeakyRelu layer** with the **slope equal to 0.1**\n",
        " - Second Convolutional layer with **32 filters and kernel size of 3x3 with 'same' padding**\n",
        " - Add **LeakyRelu** with the **slope equal to 0.1**\n",
        " - Add a **max-pooling layer** with a **pool size of 2x2**\n",
        " - Add a **BatchNormalization layer**\n",
        " - Third Convolutional layer with **32 filters and kernel size of 3x3 with 'same' padding**\n",
        " - Add a **LeakyRelu layer with slope equal to 0.1**\n",
        " - Fourth Convolutional layer **64 filters and kernel size of 3x3 with 'same' padding** \n",
        " - Add a **LeakyRelu layer with slope equal to 0.1**\n",
        " - Add a **max-pooling layer** with a **pool size of 2x2**\n",
        " - Add a **BatchNormalization layer**\n",
        " - **Flatten** the output from the previous layer\n",
        " - Add a **dense layer with 32 nodes**\n",
        " - Add a **LeakyRelu layer with slope equal to 0.1**\n",
        " - Add a **dropout layer with rate equal to 0.5**\n",
        " - Add the final **output layer with nodes equal to the number of classes** and **softmax activation**\n",
        " - Compile the model with the **categorical_crossentropy loss, adam optimizers (learning_rate = 0.001), and accuracy metric**. Do not fit the model here, just return the compiled model\n",
        "- Call the function and store the model in a new variable\n",
        "- Print the summary of the model.\n",
        "- Fit the model on the train data with a **validation split of 0.2, batch size = 128, verbose = 1, and 30 epochs**. Store the model building history to use later for visualization."
      ]
    },
    {
      "cell_type": "markdown",
      "metadata": {
        "id": "Sr-bwBT2e2TJ"
      },
      "source": [
        "#### **Question 5: Build and train the second CNN model as per the above mentioned architecture (10 Marks)**"
      ]
    },
    {
      "cell_type": "code",
      "execution_count": null,
      "metadata": {
        "id": "EEPYLFIPnSDP"
      },
      "outputs": [],
      "source": [
        "#Define the function\n",
        "def cnn_model_2():\n",
        "    model = Sequential() \n",
        "\n",
        "    #Add layers as per the architecture mentioned above in the same sequence\n",
        "    model.add(layers.Conv2D(16, (3, 3), padding=\"same\", input_shape=(32, 32, 1)))\n",
        "    model.add(LeakyReLU(alpha=0.1))\n",
        "    model.add(layers.Conv2D(32, (3, 3), padding=\"same\", input_shape=(32, 32, 1)))\n",
        "    model.add(LeakyReLU(alpha=0.1))\n",
        "    model.add(layers.MaxPooling2D(2,2))\n",
        "    model.add(BatchNormalization())\n",
        "    model.add(layers.Conv2D(32, (3, 3), padding=\"same\", input_shape=(32, 32, 1)))\n",
        "    model.add(LeakyReLU(alpha=0.1))\n",
        "    model.add(layers.Conv2D(64, (3, 3), padding=\"same\", input_shape=(32, 32, 1)))\n",
        "    model.add(LeakyReLU(alpha=0.1))\n",
        "    model.add(layers.MaxPooling2D(2,2))\n",
        "    model.add(BatchNormalization())\n",
        "    model.add(layers.Flatten())\n",
        "    model.add(Dense(32))\n",
        "    model.add(LeakyReLU(alpha=0.1))\n",
        "    model.add(Dropout(0.5))\n",
        "    model.add(Dense(10, activation='softmax'))\n",
        "    #declare adam optimizer with learning rate of 0.001 \n",
        "    adam = optimizers.Adam(learning_rate = 0.001)\n",
        "\n",
        "    #compile the model\n",
        "    model.compile(optimizer = 'adam',loss = 'categorical_crossentropy', metrics = ['accuracy'])\n",
        "    \n",
        "    return model"
      ]
    },
    {
      "cell_type": "code",
      "execution_count": null,
      "metadata": {
        "id": "AKjDY4plnSFl"
      },
      "outputs": [],
      "source": [
        "# Build the model\n",
        "model_2 = cnn_model_2()"
      ]
    },
    {
      "cell_type": "code",
      "execution_count": null,
      "metadata": {
        "id": "gz_6SVrU2swZ",
        "colab": {
          "base_uri": "https://localhost:8080/"
        },
        "outputId": "a4871761-327b-4aec-c0ba-2387ccf3e2d0"
      },
      "outputs": [
        {
          "output_type": "stream",
          "name": "stdout",
          "text": [
            "Model: \"sequential\"\n",
            "_________________________________________________________________\n",
            " Layer (type)                Output Shape              Param #   \n",
            "=================================================================\n",
            " conv2d (Conv2D)             (None, 32, 32, 16)        160       \n",
            "                                                                 \n",
            " leaky_re_lu (LeakyReLU)     (None, 32, 32, 16)        0         \n",
            "                                                                 \n",
            " conv2d_1 (Conv2D)           (None, 32, 32, 32)        4640      \n",
            "                                                                 \n",
            " leaky_re_lu_1 (LeakyReLU)   (None, 32, 32, 32)        0         \n",
            "                                                                 \n",
            " max_pooling2d (MaxPooling2D  (None, 16, 16, 32)       0         \n",
            " )                                                               \n",
            "                                                                 \n",
            " batch_normalization (BatchN  (None, 16, 16, 32)       128       \n",
            " ormalization)                                                   \n",
            "                                                                 \n",
            " conv2d_2 (Conv2D)           (None, 16, 16, 32)        9248      \n",
            "                                                                 \n",
            " leaky_re_lu_2 (LeakyReLU)   (None, 16, 16, 32)        0         \n",
            "                                                                 \n",
            " conv2d_3 (Conv2D)           (None, 16, 16, 64)        18496     \n",
            "                                                                 \n",
            " leaky_re_lu_3 (LeakyReLU)   (None, 16, 16, 64)        0         \n",
            "                                                                 \n",
            " max_pooling2d_1 (MaxPooling  (None, 8, 8, 64)         0         \n",
            " 2D)                                                             \n",
            "                                                                 \n",
            " batch_normalization_1 (Batc  (None, 8, 8, 64)         256       \n",
            " hNormalization)                                                 \n",
            "                                                                 \n",
            " flatten (Flatten)           (None, 4096)              0         \n",
            "                                                                 \n",
            " dense (Dense)               (None, 32)                131104    \n",
            "                                                                 \n",
            " leaky_re_lu_4 (LeakyReLU)   (None, 32)                0         \n",
            "                                                                 \n",
            " dropout (Dropout)           (None, 32)                0         \n",
            "                                                                 \n",
            " dense_1 (Dense)             (None, 10)                330       \n",
            "                                                                 \n",
            "=================================================================\n",
            "Total params: 164,362\n",
            "Trainable params: 164,170\n",
            "Non-trainable params: 192\n",
            "_________________________________________________________________\n"
          ]
        }
      ],
      "source": [
        "#Print the summary\n",
        "model_2.summary()"
      ]
    },
    {
      "cell_type": "code",
      "execution_count": null,
      "metadata": {
        "id": "IQ0Sc4R-y-uu",
        "colab": {
          "base_uri": "https://localhost:8080/"
        },
        "outputId": "97eee78a-3d95-4e0e-a936-95ca0a75762a"
      },
      "outputs": [
        {
          "output_type": "stream",
          "name": "stdout",
          "text": [
            "Epoch 1/30\n",
            "263/263 [==============================] - 7s 22ms/step - loss: 1.4613 - accuracy: 0.5037 - val_loss: 2.2413 - val_accuracy: 0.2511\n",
            "Epoch 2/30\n",
            "263/263 [==============================] - 6s 21ms/step - loss: 0.6979 - accuracy: 0.7854 - val_loss: 0.5737 - val_accuracy: 0.8227\n",
            "Epoch 3/30\n",
            "263/263 [==============================] - 5s 21ms/step - loss: 0.5676 - accuracy: 0.8262 - val_loss: 0.4386 - val_accuracy: 0.8754\n",
            "Epoch 4/30\n",
            "263/263 [==============================] - 5s 21ms/step - loss: 0.4989 - accuracy: 0.8480 - val_loss: 0.4490 - val_accuracy: 0.8677\n",
            "Epoch 5/30\n",
            "263/263 [==============================] - 6s 21ms/step - loss: 0.4509 - accuracy: 0.8639 - val_loss: 0.3978 - val_accuracy: 0.8894\n",
            "Epoch 6/30\n",
            "263/263 [==============================] - 5s 21ms/step - loss: 0.4126 - accuracy: 0.8730 - val_loss: 0.4338 - val_accuracy: 0.8761\n",
            "Epoch 7/30\n",
            "263/263 [==============================] - 5s 21ms/step - loss: 0.3838 - accuracy: 0.8819 - val_loss: 0.4372 - val_accuracy: 0.8795\n",
            "Epoch 8/30\n",
            "263/263 [==============================] - 6s 21ms/step - loss: 0.3531 - accuracy: 0.8905 - val_loss: 0.3869 - val_accuracy: 0.8958\n",
            "Epoch 9/30\n",
            "263/263 [==============================] - 5s 21ms/step - loss: 0.3273 - accuracy: 0.8982 - val_loss: 0.3600 - val_accuracy: 0.9000\n",
            "Epoch 10/30\n",
            "263/263 [==============================] - 5s 21ms/step - loss: 0.3180 - accuracy: 0.9010 - val_loss: 0.4055 - val_accuracy: 0.8904\n",
            "Epoch 11/30\n",
            "263/263 [==============================] - 5s 21ms/step - loss: 0.2997 - accuracy: 0.9058 - val_loss: 0.3705 - val_accuracy: 0.9105\n",
            "Epoch 12/30\n",
            "263/263 [==============================] - 6s 21ms/step - loss: 0.2800 - accuracy: 0.9102 - val_loss: 0.4257 - val_accuracy: 0.8923\n",
            "Epoch 13/30\n",
            "263/263 [==============================] - 6s 21ms/step - loss: 0.2779 - accuracy: 0.9134 - val_loss: 0.4102 - val_accuracy: 0.9011\n",
            "Epoch 14/30\n",
            "263/263 [==============================] - 6s 21ms/step - loss: 0.2540 - accuracy: 0.9193 - val_loss: 0.4437 - val_accuracy: 0.8796\n",
            "Epoch 15/30\n",
            "263/263 [==============================] - 6s 21ms/step - loss: 0.2522 - accuracy: 0.9198 - val_loss: 0.3955 - val_accuracy: 0.9007\n",
            "Epoch 16/30\n",
            "263/263 [==============================] - 6s 21ms/step - loss: 0.2371 - accuracy: 0.9243 - val_loss: 0.3879 - val_accuracy: 0.9110\n",
            "Epoch 17/30\n",
            "263/263 [==============================] - 6s 21ms/step - loss: 0.2286 - accuracy: 0.9258 - val_loss: 0.4058 - val_accuracy: 0.9031\n",
            "Epoch 18/30\n",
            "263/263 [==============================] - 6s 21ms/step - loss: 0.2212 - accuracy: 0.9287 - val_loss: 0.3906 - val_accuracy: 0.9094\n",
            "Epoch 19/30\n",
            "263/263 [==============================] - 5s 21ms/step - loss: 0.2128 - accuracy: 0.9328 - val_loss: 0.3839 - val_accuracy: 0.9098\n",
            "Epoch 20/30\n",
            "263/263 [==============================] - 6s 21ms/step - loss: 0.1992 - accuracy: 0.9355 - val_loss: 0.4321 - val_accuracy: 0.8990\n",
            "Epoch 21/30\n",
            "263/263 [==============================] - 5s 21ms/step - loss: 0.1988 - accuracy: 0.9354 - val_loss: 0.3882 - val_accuracy: 0.9089\n",
            "Epoch 22/30\n",
            "263/263 [==============================] - 5s 21ms/step - loss: 0.1831 - accuracy: 0.9396 - val_loss: 0.4270 - val_accuracy: 0.8921\n",
            "Epoch 23/30\n",
            "263/263 [==============================] - 6s 21ms/step - loss: 0.1855 - accuracy: 0.9387 - val_loss: 0.3940 - val_accuracy: 0.9144\n",
            "Epoch 24/30\n",
            "263/263 [==============================] - 6s 21ms/step - loss: 0.1831 - accuracy: 0.9407 - val_loss: 0.3947 - val_accuracy: 0.9129\n",
            "Epoch 25/30\n",
            "263/263 [==============================] - 5s 21ms/step - loss: 0.1650 - accuracy: 0.9452 - val_loss: 0.4482 - val_accuracy: 0.9070\n",
            "Epoch 26/30\n",
            "263/263 [==============================] - 6s 21ms/step - loss: 0.1656 - accuracy: 0.9457 - val_loss: 0.4484 - val_accuracy: 0.9052\n",
            "Epoch 27/30\n",
            "263/263 [==============================] - 6s 21ms/step - loss: 0.1659 - accuracy: 0.9440 - val_loss: 0.4668 - val_accuracy: 0.9048\n",
            "Epoch 28/30\n",
            "263/263 [==============================] - 6s 21ms/step - loss: 0.1603 - accuracy: 0.9463 - val_loss: 0.3964 - val_accuracy: 0.9162\n",
            "Epoch 29/30\n",
            "263/263 [==============================] - 5s 21ms/step - loss: 0.1538 - accuracy: 0.9491 - val_loss: 0.4783 - val_accuracy: 0.9055\n",
            "Epoch 30/30\n",
            "263/263 [==============================] - 6s 21ms/step - loss: 0.1499 - accuracy: 0.9507 - val_loss: 0.4992 - val_accuracy: 0.8927\n"
          ]
        }
      ],
      "source": [
        "# Fit the model\n",
        "history_model_2 = model_2.fit(X_train, y_train, epochs=30, batch_size=128, verbose=1, validation_split=0.2)"
      ]
    },
    {
      "cell_type": "markdown",
      "metadata": {
        "id": "0_f1EXmTe2TK"
      },
      "source": [
        "### **Plotting the validation and training accuracies**"
      ]
    },
    {
      "cell_type": "markdown",
      "metadata": {
        "id": "aC5UbsqXe2TK"
      },
      "source": [
        "#### **Question 6: Write your observations on the below plot (2 Marks)**"
      ]
    },
    {
      "cell_type": "code",
      "execution_count": null,
      "metadata": {
        "colab": {
          "base_uri": "https://localhost:8080/",
          "height": 497
        },
        "id": "01ig6BrF1KVy",
        "outputId": "13a34e48-570e-414a-9660-235e71115bfe"
      },
      "outputs": [
        {
          "output_type": "display_data",
          "data": {
            "image/png": "[encoded data removed]",
            "text/plain": [
              "<Figure size 576x576 with 1 Axes>"
            ]
          },
          "metadata": {
            "needs_background": "light"
          }
        }
      ],
      "source": [
        "# plotting the accuracies\n",
        "\n",
        "dict_hist = history_model_2.history\n",
        "list_ep = [i for i in range(1,31)]\n",
        "\n",
        "plt.figure(figsize = (8,8))\n",
        "plt.plot(list_ep,dict_hist['accuracy'],ls = '--', label = 'accuracy')\n",
        "plt.plot(list_ep,dict_hist['val_accuracy'],ls = '--', label = 'val_accuracy')\n",
        "plt.ylabel('Accuracy')\n",
        "plt.xlabel('Epochs')\n",
        "plt.legend()\n",
        "plt.show()"
      ]
    },
    {
      "cell_type": "markdown",
      "metadata": {
        "id": "VPW1LlD61RDn"
      },
      "source": [
        "**Observations:**\n",
        "\n",
        "These alterations to the model (the two more convolutional layers and batch normalization) resulted in a slightly lower accuracy on the training data (95% here, while it was 97% previously). However, what I mentioned before, that I wanted the model to be more generalizable, was attained with these changes. The validation data here was about 90% accurate (we'll have to see below for the actual number). That is about a 3% improvment and the two results (training and test) are more similar. \n",
        "\n",
        "After about 10 epochs the training data only improved slightly with each epoch. The next 20 epochs only resulted in about a 3% increase.\n",
        "\n",
        "Therefore, I conclude this model is better than the first CNN, and much better than the NNs from the first part of this assignment. And I would recommend it is OK to move forward using this model to predict data."
      ]
    },
    {
      "cell_type": "markdown",
      "metadata": {
        "id": "8kuXx9Bvu00f"
      },
      "source": [
        "## **Predictions on the test data**\n",
        "\n",
        "- Make predictions on the test set using the second model\n",
        "- Print the obtained results using the classification report and the confusion matrix\n",
        "- Final observations from the obtained results"
      ]
    },
    {
      "cell_type": "markdown",
      "metadata": {
        "id": "yfZwC9OUe2TL"
      },
      "source": [
        "#### **Question 7: Make predictions on the test data using the second model (1 Mark)**"
      ]
    },
    {
      "cell_type": "code",
      "execution_count": null,
      "metadata": {
        "id": "xbWMEtTj5Ad0"
      },
      "outputs": [],
      "source": [
        "#Make prediction on the test data using model_2 \n",
        "test_pred = model_2.predict(X_test)\n",
        "\n",
        "test_pred = np.argmax(test_pred, axis=-1)"
      ]
    },
    {
      "cell_type": "markdown",
      "metadata": {
        "id": "i3li8Ib08yts"
      },
      "source": [
        "**Note:** Earlier, we noticed that each entry of the test data is a one-hot encoded vector but to print the classification report and confusion matrix, we must convert each entry of y_test to a single label."
      ]
    },
    {
      "cell_type": "code",
      "execution_count": null,
      "metadata": {
        "id": "NByu7uAQ8x9P"
      },
      "outputs": [],
      "source": [
        "#Converting each entry to single label from one-hot encoded vector\n",
        "y_test = np.argmax(y_test, axis=-1)"
      ]
    },
    {
      "cell_type": "markdown",
      "metadata": {
        "id": "yHDUEma0e2TM"
      },
      "source": [
        "#### **Question 8: Write your final observations on the performance of the model on the test data (2 Marks)**"
      ]
    },
    {
      "cell_type": "code",
      "execution_count": null,
      "metadata": {
        "colab": {
          "base_uri": "https://localhost:8080/",
          "height": 646
        },
        "id": "xRddeJ-3EHT1",
        "outputId": "ecd5330d-8d85-476f-ad4d-df689fde45a2"
      },
      "outputs": [
        {
          "output_type": "stream",
          "name": "stdout",
          "text": [
            "              precision    recall  f1-score   support\n",
            "\n",
            "           0       0.93      0.91      0.92      1814\n",
            "           1       0.88      0.88      0.88      1828\n",
            "           2       0.91      0.90      0.90      1803\n",
            "           3       0.85      0.88      0.86      1719\n",
            "           4       0.88      0.92      0.90      1812\n",
            "           5       0.89      0.90      0.90      1768\n",
            "           6       0.91      0.85      0.88      1832\n",
            "           7       0.89      0.93      0.91      1808\n",
            "           8       0.90      0.87      0.88      1812\n",
            "           9       0.88      0.87      0.88      1804\n",
            "\n",
            "    accuracy                           0.89     18000\n",
            "   macro avg       0.89      0.89      0.89     18000\n",
            "weighted avg       0.89      0.89      0.89     18000\n",
            "\n"
          ]
        },
        {
          "output_type": "display_data",
          "data": {
            "image/png": "[encoded data removed]",
            "text/plain": [
              "<Figure size 576x360 with 2 Axes>"
            ]
          },
          "metadata": {
            "needs_background": "light"
          }
        }
      ],
      "source": [
        "#importing required functions\n",
        "from sklearn.metrics import classification_report\n",
        "from sklearn.metrics import confusion_matrix\n",
        "\n",
        "#Printing the classification report\n",
        "print(classification_report(y_test, test_pred))\n",
        "\n",
        "#Plotting the heatmap using confusion matrix\n",
        "cm = confusion_matrix(y_test, test_pred)\n",
        "plt.figure(figsize=(8,5))\n",
        "sns.heatmap(cm, annot=True,  fmt='.0f')\n",
        "plt.ylabel('Actual')\n",
        "plt.xlabel('Predicted')\n",
        "plt.show()"
      ]
    },
    {
      "cell_type": "markdown",
      "metadata": {
        "id": "DjErl4GA2u9s"
      },
      "source": [
        "#### **Observations:**\n",
        "\n",
        "The overall accuracy of this model on the prediction set was **89%**. This is much higher than the NN from the first half of this assignment (which was **74%**). Adding the convolutional layers (and some batch normalization) improved the predictive power of the model. \n",
        "\n",
        "Again, because f1-score represents the overall accuracy of the model, including both precision and recall, and because this data set is not a life or death question, thus it doesn't really matter on the level of did it have more false positives or negatives, I will just discuss the f1-score, or accuracy of each number.\n",
        "\n",
        "The model struggled the most with **3 (at 86% accuracy)**. The model most often said a **3 was a 5 (54 times)**. These could be confused by humans very easily, though.\n",
        "\n",
        "The next numbers it struggled with **(at 88%)** accuracy were **9, 8, 6 and 1**. **9** was mislabeled pretty evenly across the other numbers. **8** was mislabeled most as a **3 (66 times)** then as a **6 (52 times)**, which are close confusers. The biggest errors for 6 were that the model predicted them to be **5 (73 times)** or **8 (67 times)**. Again, reasonable mistakes.\n",
        "\n",
        "At a relatively high 90%, the model accurately labeled **4, 5 and 2**. The most errors with 4 was that it predicted **38 times a 4 was a 1**. For 5, the model predicted **76** times that a **5 was a 3**. The worst mistake for 2, was that the model called **57, 7s a 2**.\n",
        "\n",
        "The model predicted **7s really well at 91% accuracy**.**45 times** it confused a **1 as a 7**. That makes a lot of sense.\n",
        "\n",
        "Finally, the model predicted **0 the best, at 92%**, with the greatest mislabelling coming with **50, 9s labeled as 0s**.\n",
        "\n",
        "Overall, this model did really well **(89% accuracy)** predicting the numbers from the images provided. The most mistakes for each number it made were really close confusers that even humans can make. So I would suggest this is a good model for non-significant work. If reading numbers became such a task that we needed more accuracy or errors could have much greater consequencese) we may wish to alter the parameters and layers more. But for now, this is much better than the NN (first half of this assignment) and it performs relatively well, with realistic mistakes."
      ]
    }
  ],
  "metadata": {
    "accelerator": "GPU",
    "colab": {
      "collapsed_sections": [
        "8z2Z7-OAs8QG",
        "C8U3DUa3eNsT",
        "8lsux2ZwyTTR",
        "kxODV6HKykuc",
        "Rn5IZYv-e2TC",
        "kzoyeXHOy80N",
        "YP92jacue2TE",
        "yH-gVrzuByNA",
        "Uw8pZcNwe2TG",
        "sVyQ9Gpge2TI",
        "lT6o3TIKuCtk",
        "Sr-bwBT2e2TJ",
        "aC5UbsqXe2TK",
        "8kuXx9Bvu00f",
        "yfZwC9OUe2TL",
        "yHDUEma0e2TM"
      ],
      "name": "CNN_Project_Learner_Notebook_SVHN.ipynb",
      "provenance": [],
      "include_colab_link": true
    },
    "kernelspec": {
      "display_name": "Python 3",
      "language": "python",
      "name": "python3"
    },
    "language_info": {
      "codemirror_mode": {
        "name": "ipython",
        "version": 3
      },
      "file_extension": ".py",
      "mimetype": "text/x-python",
      "name": "python",
      "nbconvert_exporter": "python",
      "pygments_lexer": "ipython3",
      "version": "3.8.8"
    }
  },
  "nbformat": 4,
  "nbformat_minor": 0
}