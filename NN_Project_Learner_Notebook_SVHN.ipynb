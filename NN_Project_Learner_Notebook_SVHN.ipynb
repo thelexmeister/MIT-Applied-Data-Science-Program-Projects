{
  "nbformat": 4,
  "nbformat_minor": 0,
  "metadata": {
    "accelerator": "TPU",
    "colab": {
      "name": "NN_Project_Learner_Notebook_SVHN.ipynb",
      "provenance": [],
      "collapsed_sections": [],
      "include_colab_link": true
    },
    "kernelspec": {
      "display_name": "Python 3",
      "language": "python",
      "name": "python3"
    },
    "language_info": {
      "codemirror_mode": {
        "name": "ipython",
        "version": 3
      },
      "file_extension": ".py",
      "mimetype": "text/x-python",
      "name": "python",
      "nbconvert_exporter": "python",
      "pygments_lexer": "ipython3",
      "version": "3.8.8"
    }
  },
  "cells": [
    {
      "cell_type": "markdown",
      "metadata": {
        "id": "view-in-github",
        "colab_type": "text"
      },
      "source": [
        "<a href=\"https://colab.research.google.com/github/thelexmeister/MIT-Applied-Data-Science-Program-Projects/blob/main/NN_Project_Learner_Notebook_SVHN.ipynb\" target=\"_parent\"><img src=\"https://colab.research.google.com/assets/colab-badge.svg\" alt=\"Open In Colab\"/></a>"
      ]
    },
    {
      "cell_type": "markdown",
      "metadata": {
        "id": "Q91KqmCRu64D"
      },
      "source": [
        "# **Project - Artificial Neural Networks: Street View Housing Number Digit Recognition**\n",
        "\n",
        "# Marks: 30\n",
        "\n",
        "Welcome to the project on classification using Artificial Neural Networks. We will work with the Street View Housing Numbers (SVHN) image dataset for this project.\n",
        "\n",
        "--------------\n",
        "### **Context:** \n",
        "--------------\n",
        "\n",
        "One of the most interesting tasks in deep learning is to recognize objects in natural scenes. The ability to process visual information using machine learning algorithms can be very useful as demonstrated in various applications.\n",
        "\n",
        "The SVHN dataset contains over 600,000 labeled digits cropped from street level photos. It is one of the most popular image recognition datasets. It has been used in neural networks created by Google to improve map quality by automatically transcribing the address numbers from a patch of pixels. The transcribed number with a known street address helps pinpoint the location of the building it represents. \n",
        "\n",
        "----------------\n",
        "### **Objective:**\n",
        "----------------\n",
        "\n",
        "Build a feed forward neural network model that can identify the digits in the images. \n",
        "\n",
        "-------------\n",
        "### **Dataset**\n",
        "-------------\n",
        "Here, we will use a subset of the original data to save some computation time. The dataset is provided as a .h5 file. The basic preprocessing steps have been done."
      ]
    },
    {
      "cell_type": "markdown",
      "metadata": {
        "id": "8z2Z7-OAs8QG"
      },
      "source": [
        "## **Mount the drive**\n",
        "Let us start by mounting the drive and importing the necessary libraries."
      ]
    },
    {
      "cell_type": "code",
      "metadata": {
        "colab": {
          "base_uri": "https://localhost:8080/"
        },
        "id": "03lDyQUuef7z",
        "outputId": "4f331cc9-7935-45fb-ac40-ee8681ac199e"
      },
      "source": [
        "from google.colab import drive\n",
        "drive.mount('/content/drive')"
      ],
      "execution_count": null,
      "outputs": [
        {
          "output_type": "stream",
          "name": "stdout",
          "text": [
            "Mounted at /content/drive\n"
          ]
        }
      ]
    },
    {
      "cell_type": "markdown",
      "metadata": {
        "id": "C8U3DUa3eNsT"
      },
      "source": [
        "## **Importing libraries**"
      ]
    },
    {
      "cell_type": "code",
      "metadata": {
        "id": "-dVzeuF3eQx1"
      },
      "source": [
        "import numpy as np\n",
        "import pandas as pd\n",
        "import matplotlib.pyplot as plt\n",
        "import seaborn as sns\n",
        "\n",
        "from sklearn.model_selection import train_test_split\n",
        "from sklearn.preprocessing import MinMaxScaler\n",
        "\n",
        "import tensorflow as tf\n",
        "from tensorflow.keras.models import Sequential\n",
        "from tensorflow.keras.layers import Dense, Dropout, Activation, BatchNormalization\n",
        "from tensorflow.keras.utils import to_categorical"
      ],
      "execution_count": null,
      "outputs": []
    },
    {
      "cell_type": "markdown",
      "metadata": {
        "id": "ucnevGLoyKf_"
      },
      "source": [
        "Let us check for the version of TensorFlow."
      ]
    },
    {
      "cell_type": "code",
      "metadata": {
        "colab": {
          "base_uri": "https://localhost:8080/"
        },
        "id": "W5as47YxyJVk",
        "outputId": "302898a9-898e-4e14-ba9a-350630be06d4"
      },
      "source": [
        "print(tf.__version__)"
      ],
      "execution_count": null,
      "outputs": [
        {
          "output_type": "stream",
          "name": "stdout",
          "text": [
            "2.8.0\n"
          ]
        }
      ]
    },
    {
      "cell_type": "markdown",
      "metadata": {
        "id": "8lsux2ZwyTTR"
      },
      "source": [
        "## **Load the dataset**\n",
        "- Let us now load the dataset that is available as a .h5 file.\n",
        "- Split the data into train and the test dataset"
      ]
    },
    {
      "cell_type": "code",
      "metadata": {
        "id": "BApX9qgNsqV0",
        "scrolled": true
      },
      "source": [
        "import h5py\n",
        "\n",
        "# Open the file as read only\n",
        "# User can make changes in the path as required\n",
        "h5f = h5py.File('/content/drive/MyDrive/SVHN_single_grey1.h5', 'r')\n",
        "\n",
        "# Load the training and the test set\n",
        "X_train = h5f['X_train'][:]\n",
        "y_train = h5f['y_train'][:]\n",
        "X_test = h5f['X_test'][:]\n",
        "y_test = h5f['y_test'][:]\n",
        "\n",
        "\n",
        "# Close this file\n",
        "h5f.close()"
      ],
      "execution_count": null,
      "outputs": []
    },
    {
      "cell_type": "markdown",
      "metadata": {
        "id": "hVe0CYpUgj7w"
      },
      "source": [
        "Let's check the number of images in the training and testing data."
      ]
    },
    {
      "cell_type": "code",
      "metadata": {
        "colab": {
          "base_uri": "https://localhost:8080/"
        },
        "id": "y3lwKpOefkpA",
        "outputId": "9fc56ac2-e80d-40b2-b67e-e88818eb531b"
      },
      "source": [
        "len(X_train), len(X_test)"
      ],
      "execution_count": null,
      "outputs": [
        {
          "output_type": "execute_result",
          "data": {
            "text/plain": [
              "(42000, 18000)"
            ]
          },
          "metadata": {},
          "execution_count": 7
        }
      ]
    },
    {
      "cell_type": "markdown",
      "metadata": {
        "id": "akTUOfLlgwoM"
      },
      "source": [
        "**Observations**\n",
        "- There are 42,000 images in the training data and 18,000 images in the testing data. "
      ]
    },
    {
      "cell_type": "markdown",
      "metadata": {
        "id": "kxODV6HKykuc"
      },
      "source": [
        "## **Visualizing images**\n",
        "- Use X_train to visualize the first 10 images\n",
        "- Use Y_train to print the first 10 labels"
      ]
    },
    {
      "cell_type": "code",
      "metadata": {
        "colab": {
          "base_uri": "https://localhost:8080/",
          "height": 96
        },
        "id": "Bvsc8ytHsqWD",
        "outputId": "b326e11e-30f2-4567-cbdb-b965b444acab"
      },
      "source": [
        "# visualizing the first 10 images in the dataset and their labels\n",
        "plt.figure(figsize=(10, 1))\n",
        "\n",
        "for i in range(10):\n",
        "    plt.subplot(1, 10, i+1)\n",
        "    plt.imshow(X_train[i], cmap=\"gray\")\n",
        "    plt.axis('off')\n",
        "\n",
        "plt.show()\n",
        "print('label for each of the above image: %s' % (y_train[0:10]))"
      ],
      "execution_count": null,
      "outputs": [
        {
          "output_type": "display_data",
          "data": {
            "image/png": "[encoded data removed]",
            "text/plain": [
              "<Figure size 720x72 with 10 Axes>"
            ]
          },
          "metadata": {
            "needs_background": "light"
          }
        },
        {
          "output_type": "stream",
          "name": "stdout",
          "text": [
            "label for each of the above image: [2 6 7 4 4 0 3 0 7 3]\n"
          ]
        }
      ]
    },
    {
      "cell_type": "markdown",
      "metadata": {
        "id": "kzoyeXHOy80N"
      },
      "source": [
        "## **Data preparation**\n",
        "\n",
        "- Print the first image in the train image and figure out the shape of the images\n",
        "- Reshape the train and the test dataset to flatten them. Figure out the required shape\n",
        "- Normalise the train and the test dataset by dividing by 255\n",
        "- Print the new shapes of the train and the test set\n",
        "- One-hot encode the target variable"
      ]
    },
    {
      "cell_type": "code",
      "metadata": {
        "colab": {
          "base_uri": "https://localhost:8080/"
        },
        "id": "NqndzQXng9rL",
        "outputId": "5f67e366-69b6-491c-a8e9-d510a736822c"
      },
      "source": [
        "# Shape of the images and the first image\n",
        "\n",
        "print(\"Shape:\", X_train[0].shape)\n",
        "print()\n",
        "print(\"First image:\\n\", X_train[0])"
      ],
      "execution_count": null,
      "outputs": [
        {
          "output_type": "stream",
          "name": "stdout",
          "text": [
            "Shape: (32, 32)\n",
            "\n",
            "First image:\n",
            " [[ 33.0704  30.2601  26.852  ...  71.4471  58.2204  42.9939]\n",
            " [ 25.2283  25.5533  29.9765 ... 113.0209 103.3639  84.2949]\n",
            " [ 26.2775  22.6137  40.4763 ... 113.3028 121.775  115.4228]\n",
            " ...\n",
            " [ 28.5502  36.212   45.0801 ...  24.1359  25.0927  26.0603]\n",
            " [ 38.4352  26.4733  23.2717 ...  28.1094  29.4683  30.0661]\n",
            " [ 50.2984  26.0773  24.0389 ...  49.6682  50.853   53.0377]]\n"
          ]
        }
      ]
    },
    {
      "cell_type": "code",
      "metadata": {
        "id": "D9YPwf9ysqWU"
      },
      "source": [
        "# Reshaping the dataset to flatten them. Remember that we are trying to reshape the 2D image data into a 1D array\n",
        "\n",
        "X_train = X_train.reshape(X_train.shape[0], 1024)\n",
        "X_test = X_test.reshape(X_test.shape[0], 1024)"
      ],
      "execution_count": null,
      "outputs": []
    },
    {
      "cell_type": "markdown",
      "metadata": {
        "id": "VxCu9DtrGzH6"
      },
      "source": [
        "#### **Question 1: Normalize the train and test data (2 Marks)**"
      ]
    },
    {
      "cell_type": "code",
      "metadata": {
        "id": "q_yUUTp_mUzB"
      },
      "source": [
        "# Normalize inputs from 0-255 to 0-1\n",
        "\n",
        "X_train = X_train/255\n",
        "X_test = X_test/255"
      ],
      "execution_count": null,
      "outputs": []
    },
    {
      "cell_type": "code",
      "metadata": {
        "colab": {
          "base_uri": "https://localhost:8080/"
        },
        "id": "t7FSqOpamWkH",
        "outputId": "453ab746-61dd-4f15-d3de-9a643e6386f9"
      },
      "source": [
        "# New shape \n",
        "\n",
        "print('Training set:', X_train.shape, y_train.shape)\n",
        "print('Test set:', X_test.shape, y_test.shape)"
      ],
      "execution_count": null,
      "outputs": [
        {
          "output_type": "stream",
          "name": "stdout",
          "text": [
            "Training set: (42000, 1024) (42000,)\n",
            "Test set: (18000, 1024) (18000,)\n"
          ]
        }
      ]
    },
    {
      "cell_type": "code",
      "metadata": {
        "colab": {
          "base_uri": "https://localhost:8080/"
        },
        "id": "zL0lYER4sqWw",
        "outputId": "8fb8d660-5bc6-4ac7-89f7-30ca6ee5910f"
      },
      "source": [
        "# one hot encode output\n",
        "y_train = to_categorical(y_train)\n",
        "y_test = to_categorical(y_test)\n",
        "\n",
        "# no.of classes\n",
        "y_test"
      ],
      "execution_count": null,
      "outputs": [
        {
          "output_type": "execute_result",
          "data": {
            "text/plain": [
              "array([[0., 1., 0., ..., 0., 0., 0.],\n",
              "       [0., 0., 0., ..., 1., 0., 0.],\n",
              "       [0., 0., 1., ..., 0., 0., 0.],\n",
              "       ...,\n",
              "       [0., 0., 0., ..., 1., 0., 0.],\n",
              "       [0., 0., 0., ..., 0., 0., 1.],\n",
              "       [0., 0., 1., ..., 0., 0., 0.]], dtype=float32)"
            ]
          },
          "metadata": {},
          "execution_count": 13
        }
      ]
    },
    {
      "cell_type": "markdown",
      "metadata": {
        "id": "ViqPOTquCF76"
      },
      "source": [
        "**Observations**\n",
        "- Notice that each entry of y_test is a one-hot encoded vector instead of a single label."
      ]
    },
    {
      "cell_type": "markdown",
      "metadata": {
        "id": "yH-gVrzuByNA"
      },
      "source": [
        "## **Model Building**\n",
        "\n",
        "Now, we have done the data preprocessing, let's build an ANN model."
      ]
    },
    {
      "cell_type": "code",
      "metadata": {
        "id": "d9ZjN17XGzIA"
      },
      "source": [
        "#Fixing the seed for random number generators\n",
        "np.random.seed(42)\n",
        "import random\n",
        "random.seed(42)\n",
        "tf.random.set_seed(42)"
      ],
      "execution_count": null,
      "outputs": []
    },
    {
      "cell_type": "markdown",
      "metadata": {
        "id": "UJDUoaEj1d6e"
      },
      "source": [
        "### **Model Architecture**\n",
        "- Write a function that returns a sequential model with the following architecture\n",
        " - First hidden layer with **64 nodes and relu activation** and the input shape which is used above\n",
        " - Second hidden layer with **32 nodes and relu activation**\n",
        " - Output layer with **softmax activation and number of nodes equal to the number of classes**\n",
        " -Compile the model with the **categorical_crossentropy loss, adam optimizer (learning_rate = 0.001), and accuracy metric**. Do not fit the model here, just return the compiled model.\n",
        "- Call the function and store the model in a new variable \n",
        "- Print the summary of the model\n",
        "- Fit on the train data with a **validation split of 0.2, batch size = 128, verbose = 1, and 20 epochs**. Store the model building history to use later for visualization."
      ]
    },
    {
      "cell_type": "markdown",
      "metadata": {
        "id": "24NB3aVsGzIC"
      },
      "source": [
        "#### **Question 2: Build and train a ANN model as per the above mentioned architecture (10 Marks)**"
      ]
    },
    {
      "cell_type": "code",
      "metadata": {
        "id": "Cmi81Gr5sqW-"
      },
      "source": [
        "#Importing losses and optimizers modules\n",
        "from tensorflow.keras import losses\n",
        "from tensorflow.keras import optimizers\n",
        "\n",
        "#Define the function\n",
        "def nn_model_1():\n",
        "    model = Sequential() \n",
        "    #Add layers as per the architecture mentioned above in the same sequence\n",
        "    model.add(Dense(64, activation='relu',input_shape=(1024,)))\n",
        "    model.add(Dense(32, activation='relu'))\n",
        "    model.add(Dense(10, activation='softmax'))\n",
        "    \n",
        "    #declare adam optimizer with learning rate of 0.001 \n",
        "    adam = optimizers.Adam(learning_rate = 0.001)\n",
        "    \n",
        "    #compile the model\n",
        "    model.compile(optimizer = 'adam',loss = 'categorical_crossentropy', metrics = ['accuracy'])\n",
        "    \n",
        "    return model"
      ],
      "execution_count": null,
      "outputs": []
    },
    {
      "cell_type": "code",
      "metadata": {
        "id": "bGCUI_xsImnH"
      },
      "source": [
        "# Build the model\n",
        "model_1 = nn_model_1()"
      ],
      "execution_count": null,
      "outputs": []
    },
    {
      "cell_type": "code",
      "metadata": {
        "id": "ckJsLdmdQadZ",
        "colab": {
          "base_uri": "https://localhost:8080/"
        },
        "outputId": "f69efd79-54b8-4320-c2c0-7f27d4c56db5"
      },
      "source": [
        "#Print the summary\n",
        "model_1.summary()"
      ],
      "execution_count": null,
      "outputs": [
        {
          "output_type": "stream",
          "name": "stdout",
          "text": [
            "Model: \"sequential_38\"\n",
            "_________________________________________________________________\n",
            " Layer (type)                Output Shape              Param #   \n",
            "=================================================================\n",
            " dense_102 (Dense)           (None, 64)                65600     \n",
            "                                                                 \n",
            " dense_103 (Dense)           (None, 32)                2080      \n",
            "                                                                 \n",
            " dense_104 (Dense)           (None, 10)                330       \n",
            "                                                                 \n",
            "=================================================================\n",
            "Total params: 68,010\n",
            "Trainable params: 68,010\n",
            "Non-trainable params: 0\n",
            "_________________________________________________________________\n"
          ]
        }
      ]
    },
    {
      "cell_type": "code",
      "metadata": {
        "id": "3Fy3Dif_zcCk",
        "colab": {
          "base_uri": "https://localhost:8080/"
        },
        "outputId": "0451081b-6d90-453a-9b3c-c14f0426ac09"
      },
      "source": [
        "# Fit the model\n",
        "history_model_1 = model_1.fit(X_train, y_train, epochs=20, batch_size=128, verbose=1, validation_split=0.2)\n"
      ],
      "execution_count": null,
      "outputs": [
        {
          "output_type": "stream",
          "name": "stdout",
          "text": [
            "Epoch 1/20\n",
            "263/263 [==============================] - 2s 6ms/step - loss: 2.2995 - accuracy: 0.1148 - val_loss: 2.2687 - val_accuracy: 0.1457\n",
            "Epoch 2/20\n",
            "263/263 [==============================] - 1s 4ms/step - loss: 2.1759 - accuracy: 0.1996 - val_loss: 2.0392 - val_accuracy: 0.2575\n",
            "Epoch 3/20\n",
            "263/263 [==============================] - 1s 5ms/step - loss: 1.8908 - accuracy: 0.3431 - val_loss: 1.7549 - val_accuracy: 0.4069\n",
            "Epoch 4/20\n",
            "263/263 [==============================] - 1s 5ms/step - loss: 1.6704 - accuracy: 0.4427 - val_loss: 1.6073 - val_accuracy: 0.4623\n",
            "Epoch 5/20\n",
            "263/263 [==============================] - 1s 5ms/step - loss: 1.5127 - accuracy: 0.5149 - val_loss: 1.4590 - val_accuracy: 0.5193\n",
            "Epoch 6/20\n",
            "263/263 [==============================] - 1s 5ms/step - loss: 1.4214 - accuracy: 0.5482 - val_loss: 1.3811 - val_accuracy: 0.5625\n",
            "Epoch 7/20\n",
            "263/263 [==============================] - 1s 5ms/step - loss: 1.3629 - accuracy: 0.5688 - val_loss: 1.3552 - val_accuracy: 0.5648\n",
            "Epoch 8/20\n",
            "263/263 [==============================] - 1s 4ms/step - loss: 1.3156 - accuracy: 0.5863 - val_loss: 1.3000 - val_accuracy: 0.5895\n",
            "Epoch 9/20\n",
            "263/263 [==============================] - 1s 5ms/step - loss: 1.2790 - accuracy: 0.6017 - val_loss: 1.2904 - val_accuracy: 0.5948\n",
            "Epoch 10/20\n",
            "263/263 [==============================] - 1s 4ms/step - loss: 1.2529 - accuracy: 0.6095 - val_loss: 1.2532 - val_accuracy: 0.6098\n",
            "Epoch 11/20\n",
            "263/263 [==============================] - 1s 4ms/step - loss: 1.2292 - accuracy: 0.6161 - val_loss: 1.2478 - val_accuracy: 0.6031\n",
            "Epoch 12/20\n",
            "263/263 [==============================] - 1s 4ms/step - loss: 1.2179 - accuracy: 0.6179 - val_loss: 1.2270 - val_accuracy: 0.6160\n",
            "Epoch 13/20\n",
            "263/263 [==============================] - 1s 5ms/step - loss: 1.2077 - accuracy: 0.6246 - val_loss: 1.1980 - val_accuracy: 0.6255\n",
            "Epoch 14/20\n",
            "263/263 [==============================] - 1s 5ms/step - loss: 1.1910 - accuracy: 0.6299 - val_loss: 1.2115 - val_accuracy: 0.6200\n",
            "Epoch 15/20\n",
            "263/263 [==============================] - 1s 5ms/step - loss: 1.1765 - accuracy: 0.6353 - val_loss: 1.1934 - val_accuracy: 0.6311\n",
            "Epoch 16/20\n",
            "263/263 [==============================] - 1s 4ms/step - loss: 1.1702 - accuracy: 0.6362 - val_loss: 1.1979 - val_accuracy: 0.6273\n",
            "Epoch 17/20\n",
            "263/263 [==============================] - 1s 5ms/step - loss: 1.1591 - accuracy: 0.6403 - val_loss: 1.1591 - val_accuracy: 0.6451\n",
            "Epoch 18/20\n",
            "263/263 [==============================] - 1s 5ms/step - loss: 1.1530 - accuracy: 0.6429 - val_loss: 1.1586 - val_accuracy: 0.6393\n",
            "Epoch 19/20\n",
            "263/263 [==============================] - 1s 4ms/step - loss: 1.1383 - accuracy: 0.6479 - val_loss: 1.1260 - val_accuracy: 0.6560\n",
            "Epoch 20/20\n",
            "263/263 [==============================] - 1s 5ms/step - loss: 1.1341 - accuracy: 0.6499 - val_loss: 1.1318 - val_accuracy: 0.6502\n"
          ]
        }
      ]
    },
    {
      "cell_type": "markdown",
      "metadata": {
        "id": "tKOckG-KPyLg"
      },
      "source": [
        "### **Plotting the validation and training accuracies**"
      ]
    },
    {
      "cell_type": "markdown",
      "metadata": {
        "id": "CuKXZ3SmGzIG"
      },
      "source": [
        "#### **Question 3: Write your observations on the below plot (2 Marks)**"
      ]
    },
    {
      "cell_type": "code",
      "metadata": {
        "colab": {
          "base_uri": "https://localhost:8080/",
          "height": 497
        },
        "id": "lt77zgGMP4yw",
        "outputId": "d2733ef2-f4a5-4d50-93c9-c59b07d69d85"
      },
      "source": [
        "# plotting the accuracies\n",
        "\n",
        "dict_hist = history_model_1.history\n",
        "list_ep = [i for i in range(1,21)]\n",
        "\n",
        "plt.figure(figsize = (8,8))\n",
        "plt.plot(list_ep,dict_hist['accuracy'],ls = '--', label = 'accuracy')\n",
        "plt.plot(list_ep,dict_hist['val_accuracy'],ls = '--', label = 'val_accuracy')\n",
        "plt.ylabel('Accuracy')\n",
        "plt.xlabel('Epochs')\n",
        "plt.legend()\n",
        "plt.show()"
      ],
      "execution_count": null,
      "outputs": [
        {
          "output_type": "display_data",
          "data": {
            "image/png": "[encoded data removed]",
            "text/plain": [
              "<Figure size 576x576 with 1 Axes>"
            ]
          },
          "metadata": {
            "needs_background": "light"
          }
        }
      ]
    },
    {
      "cell_type": "markdown",
      "metadata": {
        "id": "pGBbQpLONX7k"
      },
      "source": [
        "**Observations:**\n",
        "\n",
        "Accuracy of the training set increased with epoch increase to around 0.65.\n",
        "\n",
        "Accuracy of the validation set also increased with epoch increase to around 0.65.\n",
        "\n",
        " - while both of these are similar, they are only about 65% accurate. We can likely make a better model.\n",
        "\n",
        "The training may still be consistently improving, although only slightly, past about 10 epochs. We may choose to run more epochs."
      ]
    },
    {
      "cell_type": "markdown",
      "metadata": {
        "id": "z0qgLMBZm5-K"
      },
      "source": [
        "\n",
        "Let's build one more model with higher complexity and see if we can improve the performance of the model. \n",
        "\n",
        "First, we need to clear the previous model's history from the keras backend. Also, let's fix the seed again after clearing the backend."
      ]
    },
    {
      "cell_type": "code",
      "metadata": {
        "id": "y98BpLxsok_H"
      },
      "source": [
        "#Clearing backend\n",
        "from tensorflow.keras import backend\n",
        "backend.clear_session()"
      ],
      "execution_count": null,
      "outputs": []
    },
    {
      "cell_type": "code",
      "metadata": {
        "id": "HbKi93HTolGW"
      },
      "source": [
        "#Fixing the seed for random number generators\n",
        "np.random.seed(42)\n",
        "import random\n",
        "random.seed(42)\n",
        "tf.random.set_seed(42)"
      ],
      "execution_count": null,
      "outputs": []
    },
    {
      "cell_type": "markdown",
      "metadata": {
        "id": "lT6o3TIKuCtk"
      },
      "source": [
        "### **Second Model Architecture**\n",
        "- Write a function that returns a sequential model with the following architecture\n",
        " - First hidden layer with **256 nodes and relu activation**\n",
        " - Second hidden layer with **128 nodes and relu activation**\n",
        " - Add the **Dropout layer with rate equal to 0.2**\n",
        " - Third hidden layer with **64 nodes and relu activation**\n",
        " - Fourth hidden layer with **64 nodes and relu activation**\n",
        " - Fifth hidden layer with **32 nodes and relu activation**\n",
        " - Add the **BatchNormalization layer**\n",
        " - Output layer with **softmax activation and number of nodes equal to the number of classes**\n",
        " -Compile the model with the **categorical_crossentropy loss, adam optimizer (learning_rate = 0.0005), and accuracy metric**. Do not fit the model here, just return the compiled model.\n",
        "- Call the function and store the model in a new variable \n",
        "- Print the summary of the model\n",
        "- Fit on the train data with a **validation split of 0.2, batch size = 128, verbose = 1, and 30 epochs**. Store the model building history to use later for visualization."
      ]
    },
    {
      "cell_type": "markdown",
      "metadata": {
        "id": "4dV32YjAGzIR"
      },
      "source": [
        "#### **Question 4: Build and train the new ANN model as per the above mentioned architecture (10 Marks)**"
      ]
    },
    {
      "cell_type": "code",
      "metadata": {
        "id": "EEPYLFIPnSDP"
      },
      "source": [
        "#Importing losses and optimizers modules\n",
        "from tensorflow.keras import losses\n",
        "from tensorflow.keras import optimizers\n",
        "\n",
        "#Define the function\n",
        "def nn_model_2():\n",
        "    model = Sequential() \n",
        "    \n",
        "    #Add layers as per the architecture mentioned above in the same sequence\n",
        "    model.add(Dense(256, activation='relu',input_shape=(1024,)))\n",
        "    model.add(Dense(128, activation='relu'))\n",
        "    model.add(Dropout(0.2))\n",
        "    model.add(Dense(64, activation='relu'))\n",
        "    model.add(Dense(64, activation='relu'))\n",
        "    model.add(Dense(32, activation='relu'))\n",
        "    model.add(BatchNormalization())\n",
        "    model.add(Dense(10, activation='softmax'))\n",
        "    \n",
        "    #declare adam optimizer with learning rate of 0.0005 \n",
        "    adam = optimizers.Adam(learning_rate = 0.0005)\n",
        "    \n",
        "    #compile the model\n",
        "    model.compile(optimizer = 'adam',loss = 'categorical_crossentropy', metrics = ['accuracy'])\n",
        "    \n",
        "    return model"
      ],
      "execution_count": null,
      "outputs": []
    },
    {
      "cell_type": "code",
      "metadata": {
        "id": "AKjDY4plnSFl"
      },
      "source": [
        "# Build the model\n",
        "model_2 = nn_model_2()"
      ],
      "execution_count": null,
      "outputs": []
    },
    {
      "cell_type": "code",
      "metadata": {
        "id": "gz_6SVrU2swZ",
        "colab": {
          "base_uri": "https://localhost:8080/"
        },
        "outputId": "70f2d38f-e5e2-4d9a-cf1d-f29cd46293d2"
      },
      "source": [
        "#Print the model summary\n",
        "model_2.summary()"
      ],
      "execution_count": null,
      "outputs": [
        {
          "output_type": "stream",
          "name": "stdout",
          "text": [
            "Model: \"sequential\"\n",
            "_________________________________________________________________\n",
            " Layer (type)                Output Shape              Param #   \n",
            "=================================================================\n",
            " dense (Dense)               (None, 256)               262400    \n",
            "                                                                 \n",
            " dense_1 (Dense)             (None, 128)               32896     \n",
            "                                                                 \n",
            " dropout (Dropout)           (None, 128)               0         \n",
            "                                                                 \n",
            " dense_2 (Dense)             (None, 64)                8256      \n",
            "                                                                 \n",
            " dense_3 (Dense)             (None, 64)                4160      \n",
            "                                                                 \n",
            " dense_4 (Dense)             (None, 32)                2080      \n",
            "                                                                 \n",
            " batch_normalization (BatchN  (None, 32)               128       \n",
            " ormalization)                                                   \n",
            "                                                                 \n",
            " dense_5 (Dense)             (None, 10)                330       \n",
            "                                                                 \n",
            "=================================================================\n",
            "Total params: 310,250\n",
            "Trainable params: 310,186\n",
            "Non-trainable params: 64\n",
            "_________________________________________________________________\n"
          ]
        }
      ]
    },
    {
      "cell_type": "code",
      "metadata": {
        "id": "IQ0Sc4R-y-uu",
        "colab": {
          "base_uri": "https://localhost:8080/"
        },
        "outputId": "13fa1f74-3994-499c-8477-c49634b7cf02"
      },
      "source": [
        "# Fit the model\n",
        "history_model_2 = model_2.fit(X_train, y_train, epochs=30, batch_size=128, verbose=1, validation_split=0.2)"
      ],
      "execution_count": null,
      "outputs": [
        {
          "output_type": "stream",
          "name": "stdout",
          "text": [
            "Epoch 1/30\n",
            "263/263 [==============================] - 4s 12ms/step - loss: 2.3346 - accuracy: 0.1002 - val_loss: 2.3139 - val_accuracy: 0.0985\n",
            "Epoch 2/30\n",
            "263/263 [==============================] - 3s 10ms/step - loss: 2.3023 - accuracy: 0.1072 - val_loss: 2.2944 - val_accuracy: 0.1225\n",
            "Epoch 3/30\n",
            "263/263 [==============================] - 3s 10ms/step - loss: 2.0815 - accuracy: 0.1963 - val_loss: 2.0802 - val_accuracy: 0.2286\n",
            "Epoch 4/30\n",
            "263/263 [==============================] - 3s 11ms/step - loss: 1.6827 - accuracy: 0.4115 - val_loss: 1.5690 - val_accuracy: 0.4737\n",
            "Epoch 5/30\n",
            "263/263 [==============================] - 3s 11ms/step - loss: 1.4126 - accuracy: 0.5264 - val_loss: 1.3555 - val_accuracy: 0.5450\n",
            "Epoch 6/30\n",
            "263/263 [==============================] - 3s 11ms/step - loss: 1.2738 - accuracy: 0.5780 - val_loss: 1.1789 - val_accuracy: 0.6145\n",
            "Epoch 7/30\n",
            "263/263 [==============================] - 3s 10ms/step - loss: 1.1798 - accuracy: 0.6143 - val_loss: 1.1785 - val_accuracy: 0.6108\n",
            "Epoch 8/30\n",
            "263/263 [==============================] - 3s 10ms/step - loss: 1.1282 - accuracy: 0.6328 - val_loss: 1.0536 - val_accuracy: 0.6627\n",
            "Epoch 9/30\n",
            "263/263 [==============================] - 3s 10ms/step - loss: 1.0854 - accuracy: 0.6468 - val_loss: 1.0265 - val_accuracy: 0.6710\n",
            "Epoch 10/30\n",
            "263/263 [==============================] - 3s 10ms/step - loss: 1.0415 - accuracy: 0.6653 - val_loss: 1.0290 - val_accuracy: 0.6813\n",
            "Epoch 11/30\n",
            "263/263 [==============================] - 3s 10ms/step - loss: 1.0100 - accuracy: 0.6779 - val_loss: 1.0311 - val_accuracy: 0.6749\n",
            "Epoch 12/30\n",
            "263/263 [==============================] - 3s 11ms/step - loss: 0.9775 - accuracy: 0.6882 - val_loss: 1.0012 - val_accuracy: 0.6876\n",
            "Epoch 13/30\n",
            "263/263 [==============================] - 3s 10ms/step - loss: 0.9528 - accuracy: 0.6965 - val_loss: 0.9642 - val_accuracy: 0.6998\n",
            "Epoch 14/30\n",
            "263/263 [==============================] - 3s 12ms/step - loss: 0.9484 - accuracy: 0.6982 - val_loss: 0.9904 - val_accuracy: 0.6882\n",
            "Epoch 15/30\n",
            "263/263 [==============================] - 3s 11ms/step - loss: 0.9240 - accuracy: 0.7059 - val_loss: 0.8876 - val_accuracy: 0.7199\n",
            "Epoch 16/30\n",
            "263/263 [==============================] - 3s 10ms/step - loss: 0.9125 - accuracy: 0.7115 - val_loss: 0.9549 - val_accuracy: 0.6901\n",
            "Epoch 17/30\n",
            "263/263 [==============================] - 3s 10ms/step - loss: 0.9031 - accuracy: 0.7130 - val_loss: 0.9053 - val_accuracy: 0.7118\n",
            "Epoch 18/30\n",
            "263/263 [==============================] - 3s 10ms/step - loss: 0.8977 - accuracy: 0.7145 - val_loss: 0.8914 - val_accuracy: 0.7235\n",
            "Epoch 19/30\n",
            "263/263 [==============================] - 3s 10ms/step - loss: 0.8879 - accuracy: 0.7179 - val_loss: 0.8910 - val_accuracy: 0.7192\n",
            "Epoch 20/30\n",
            "263/263 [==============================] - 3s 10ms/step - loss: 0.8739 - accuracy: 0.7241 - val_loss: 0.8750 - val_accuracy: 0.7273\n",
            "Epoch 21/30\n",
            "263/263 [==============================] - 3s 10ms/step - loss: 0.8691 - accuracy: 0.7240 - val_loss: 0.9023 - val_accuracy: 0.7173\n",
            "Epoch 22/30\n",
            "263/263 [==============================] - 3s 10ms/step - loss: 0.8545 - accuracy: 0.7296 - val_loss: 0.8594 - val_accuracy: 0.7298\n",
            "Epoch 23/30\n",
            "263/263 [==============================] - 3s 13ms/step - loss: 0.8547 - accuracy: 0.7295 - val_loss: 0.8239 - val_accuracy: 0.7452\n",
            "Epoch 24/30\n",
            "263/263 [==============================] - 3s 11ms/step - loss: 0.8340 - accuracy: 0.7362 - val_loss: 0.8596 - val_accuracy: 0.7321\n",
            "Epoch 25/30\n",
            "263/263 [==============================] - 3s 10ms/step - loss: 0.8452 - accuracy: 0.7326 - val_loss: 0.8203 - val_accuracy: 0.7439\n",
            "Epoch 26/30\n",
            "263/263 [==============================] - 3s 10ms/step - loss: 0.8376 - accuracy: 0.7337 - val_loss: 0.8732 - val_accuracy: 0.7257\n",
            "Epoch 27/30\n",
            "263/263 [==============================] - 3s 10ms/step - loss: 0.8236 - accuracy: 0.7376 - val_loss: 0.9045 - val_accuracy: 0.7140\n",
            "Epoch 28/30\n",
            "263/263 [==============================] - 3s 10ms/step - loss: 0.8209 - accuracy: 0.7391 - val_loss: 0.8412 - val_accuracy: 0.7350\n",
            "Epoch 29/30\n",
            "263/263 [==============================] - 3s 10ms/step - loss: 0.8258 - accuracy: 0.7373 - val_loss: 0.8351 - val_accuracy: 0.7355\n",
            "Epoch 30/30\n",
            "263/263 [==============================] - 3s 10ms/step - loss: 0.8147 - accuracy: 0.7412 - val_loss: 0.8152 - val_accuracy: 0.7407\n"
          ]
        }
      ]
    },
    {
      "cell_type": "markdown",
      "metadata": {
        "id": "qtE4DFxdGzIT"
      },
      "source": [
        "### **Plotting the validation and training accuracies**"
      ]
    },
    {
      "cell_type": "markdown",
      "metadata": {
        "id": "O1td6Nd4GzIU"
      },
      "source": [
        "#### **Question 5: Write your observations on the below plot (2 Marks)**"
      ]
    },
    {
      "cell_type": "code",
      "metadata": {
        "colab": {
          "base_uri": "https://localhost:8080/",
          "height": 497
        },
        "id": "01ig6BrF1KVy",
        "outputId": "a4de4204-e52f-4164-bd2e-1b648ef3afb0"
      },
      "source": [
        "# plotting the accuracies\n",
        "\n",
        "dict_hist = history_model_2.history\n",
        "list_ep = [i for i in range(1,31)]\n",
        "\n",
        "plt.figure(figsize = (8,8))\n",
        "plt.plot(list_ep,dict_hist['accuracy'],ls = '--', label = 'accuracy')\n",
        "plt.plot(list_ep,dict_hist['val_accuracy'],ls = '--', label = 'val_accuracy')\n",
        "plt.ylabel('Accuracy')\n",
        "plt.xlabel('Epochs')\n",
        "plt.legend()\n",
        "plt.show()"
      ],
      "execution_count": null,
      "outputs": [
        {
          "output_type": "display_data",
          "data": {
            "image/png": "[encoded data removed]",
            "text/plain": [
              "<Figure size 576x576 with 1 Axes>"
            ]
          },
          "metadata": {
            "needs_background": "light"
          }
        }
      ]
    },
    {
      "cell_type": "markdown",
      "metadata": {
        "id": "VPW1LlD61RDn"
      },
      "source": [
        "**Observations:**\n",
        "\n",
        "Both the training and validation data show an accuracy of about 74%. They both consistently increase after Epoch 15, with a 4% improvement over the last 15 Epochs. \n",
        "\n",
        "This more complex model improved over the last model, but with a bit more complexity this may become more accurate. Being wrong a quarter of the time is likely not a big deal in this case, but if this were something else, some other objective where being wrong had more dire consequences, we may want to continue to increase the complexity to improve the accuracy."
      ]
    },
    {
      "cell_type": "markdown",
      "metadata": {
        "id": "8kuXx9Bvu00f"
      },
      "source": [
        "## **Predictions on the test data**\n",
        "\n",
        "- Make predictions on the test set using the second model\n",
        "- Print the obtained results using the classification report and the confusion matrix\n",
        "- Final observations from the obtained results"
      ]
    },
    {
      "cell_type": "code",
      "metadata": {
        "id": "xbWMEtTj5Ad0"
      },
      "source": [
        "test_pred = model_2.predict(X_test)\n",
        "\n",
        "test_pred = np.argmax(test_pred, axis=-1)"
      ],
      "execution_count": null,
      "outputs": []
    },
    {
      "cell_type": "markdown",
      "metadata": {
        "id": "i3li8Ib08yts"
      },
      "source": [
        "**Note:** Earlier, we noticed that each entry of the test data is a one-hot encoded vector but to print the classification report and confusion matrix, we must convert each entry of y_test to a single label."
      ]
    },
    {
      "cell_type": "code",
      "metadata": {
        "id": "NByu7uAQ8x9P"
      },
      "source": [
        "#Converting each entry to single label from one-hot encoded vector\n",
        "y_test = np.argmax(y_test, axis=-1)"
      ],
      "execution_count": null,
      "outputs": []
    },
    {
      "cell_type": "markdown",
      "metadata": {
        "id": "JVxGB0qaGzIY"
      },
      "source": [
        "#### **Question 6: Print the classification report and the confusion matrix for the test predictions. Write your observations on the final results (4 Marks)**"
      ]
    },
    {
      "cell_type": "code",
      "metadata": {
        "id": "xRddeJ-3EHT1",
        "colab": {
          "base_uri": "https://localhost:8080/",
          "height": 643
        },
        "outputId": "1adff9e4-16cd-4609-98a0-f6ef980c0ad4"
      },
      "source": [
        "#importing required functions\n",
        "from sklearn.metrics import classification_report\n",
        "from sklearn.metrics import confusion_matrix\n",
        "\n",
        "#Printing the classification report\n",
        "print(classification_report(y_test, test_pred))\n",
        "\n",
        "#Plotting the heatmap using confusion matrix\n",
        "cm = confusion_matrix(y_test, test_pred) #Write the code for creating confusion matrix using actual labels and predicted labels\n",
        "\n",
        "plt.figure(figsize=(8,5))\n",
        "sns.heatmap(cm, annot=True,  fmt='.0f')\n",
        "plt.ylabel('Actual')\n",
        "plt.xlabel('Predicted')\n",
        "plt.show()"
      ],
      "execution_count": null,
      "outputs": [
        {
          "output_type": "stream",
          "name": "stdout",
          "text": [
            "              precision    recall  f1-score   support\n",
            "\n",
            "           0       0.79      0.75      0.77      1814\n",
            "           1       0.71      0.81      0.76      1828\n",
            "           2       0.76      0.77      0.76      1803\n",
            "           3       0.73      0.69      0.71      1719\n",
            "           4       0.74      0.83      0.78      1812\n",
            "           5       0.73      0.67      0.70      1768\n",
            "           6       0.79      0.68      0.73      1832\n",
            "           7       0.77      0.80      0.78      1808\n",
            "           8       0.66      0.72      0.69      1812\n",
            "           9       0.75      0.70      0.73      1804\n",
            "\n",
            "    accuracy                           0.74     18000\n",
            "   macro avg       0.74      0.74      0.74     18000\n",
            "weighted avg       0.74      0.74      0.74     18000\n",
            "\n"
          ]
        },
        {
          "output_type": "display_data",
          "data": {
            "image/png": "[encoded data removed]",
            "text/plain": [
              "<Figure size 576x360 with 2 Axes>"
            ]
          },
          "metadata": {
            "needs_background": "light"
          }
        }
      ]
    },
    {
      "cell_type": "markdown",
      "metadata": {
        "id": "DjErl4GA2u9s"
      },
      "source": [
        "#### **Observations:**\n",
        "\n",
        "Because this is just an attempt to identify numbers (not something to try to identify something with much more harmful consequences if there is an error) understanding the differences between precision or recall may not be so important. So I will focus my evaluation on the f1-score, a measure of accuracy. How accurate was this model?\n",
        "\n",
        "The overall accuracy of the model was **74%**. We can see with the more detailed report, that it was **best at recognizing 0, 4 and 7 (at 77% or 78% accuracy)**. It predicted **0 was a 9, 72 times, and a 6, 67 times**. these make sense. However, it also predicted a **0 was a 4, 71 times and a 1, 64 times**. These don't seem to be too similar for a good model to make this many errors. 1 and 4 are straight lines, 0s are round.\n",
        "\n",
        "The worst number for it to recognize was an **8 (69%)**. It struggled the most predicting **6s  (93 times) and 9s (85 times), to be 8s**. But oddly, it predicted **76 times a 1 was an 8**. That mistake is confusing: a 1 is a line, and 8 is rounded.\n",
        "\n",
        "Another number it had a hard time with was **5 (70%)**. The numbers it predicted most often instead of a **5 was a 3 (113 times)** and an **8 (148 times)**. These mistakes, however, are reasonable, as these numbers could be considered close confusers.\n",
        "\n",
        "The next number it had a hard time with was **3 (71%)**. The model predicted **141 3s as 5s**. A really close confuser, in my mind. Addtionally, it predicted **88 3s to be 2s** and **73 3s to be 8s**. Again, reasonable mistakes. But **72 3s were mislabeled as 1s**, that does not make much sense.\n",
        "\n",
        "At **73% accuracy**, the model had a bit of a hard time with **6 and 9**. Not between the two, interestingly. But it labeled **185 6s as 8s** (ok, makes some sense) and **116 6s as 4s** (makes little sense). The mislabels for 9 were relatively evenly distributed, across the numbers (highest mislabeling was as a 0, 88 times), except for 6. It** only called a 9, a 6 15 times**.\n",
        "\n",
        "Finally, at **76% accuracy**, it was able to classify **1 and 2** relatively well. It called **84 1s, a 4, and 77 times it called a 1 a 7** (both mistakes are reasonable). The largest number of mistakes for **2** was that it **predicted 139 2s to be 7s**. Again, reasonable.\n",
        "\n",
        "All the other misclasffications were below 100 mistakes and I would guess the issue was most likely due to other things around the numbers creating pixilazation issues. If the number was written in a fancy way or something was just behind it, it may have confused the number for another number as it wasn't able to perfecly distinquish the shape. Overall, I think this model does a pretty good job. However, there were some odd mislabels that were not reallly close confusers (e.g. a 3 mislabeled as a 1). These errors I would want to reduce from the NN. With a bit more time, maybe more Epochs or changing some parameters, we might be able to improve the model. (See the next part of the assignment!!!) But as this is only reading numbers, I think it is pretty good for such a relatively simple NN and short computing time.\n",
        "\n"
      ]
    }
  ]
}